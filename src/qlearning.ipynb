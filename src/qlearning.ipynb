{
 "cells": [
  {
   "cell_type": "code",
   "execution_count": 5,
   "metadata": {},
   "outputs": [],
   "source": [
    "import matplotlib.pyplot as plt\n",
    "import seaborn as sns\n",
    "\n",
    "from qlearning_numpy import *\n",
    "\n",
    "%matplotlib inline"
   ]
  },
  {
   "cell_type": "code",
   "execution_count": 16,
   "metadata": {},
   "outputs": [],
   "source": [
    "q, iterations = qlearning(state_grid, 100, epsilon=0.8, alpha=0.2, gamma=0.95, updated_grid=updated_grid)"
   ]
  },
  {
   "cell_type": "code",
   "execution_count": 17,
   "metadata": {},
   "outputs": [
    {
     "data": {
      "text/plain": [
       "[197,\n",
       " 26,\n",
       " 33,\n",
       " 107,\n",
       " 60,\n",
       " 268,\n",
       " 65,\n",
       " 123,\n",
       " 22,\n",
       " 40,\n",
       " 22,\n",
       " 616,\n",
       " 1713,\n",
       " 2474,\n",
       " 268,\n",
       " 138,\n",
       " 181,\n",
       " 293,\n",
       " 290,\n",
       " 192,\n",
       " 105,\n",
       " 200,\n",
       " 347,\n",
       " 871,\n",
       " 1803,\n",
       " 180,\n",
       " 726,\n",
       " 437,\n",
       " 703,\n",
       " 155,\n",
       " 202,\n",
       " 92,\n",
       " 50,\n",
       " 102,\n",
       " 156,\n",
       " 96,\n",
       " 84,\n",
       " 74,\n",
       " 116,\n",
       " 61,\n",
       " 158,\n",
       " 54,\n",
       " 47,\n",
       " 263,\n",
       " 57,\n",
       " 55,\n",
       " 54,\n",
       " 71,\n",
       " 33,\n",
       " 69,\n",
       " 125,\n",
       " 126,\n",
       " 64,\n",
       " 73,\n",
       " 188,\n",
       " 93,\n",
       " 95,\n",
       " 75,\n",
       " 84,\n",
       " 94,\n",
       " 114,\n",
       " 115,\n",
       " 126,\n",
       " 59,\n",
       " 49,\n",
       " 172,\n",
       " 113,\n",
       " 43,\n",
       " 87,\n",
       " 82,\n",
       " 102,\n",
       " 116,\n",
       " 145,\n",
       " 36,\n",
       " 55,\n",
       " 122,\n",
       " 72,\n",
       " 58,\n",
       " 113,\n",
       " 125,\n",
       " 127,\n",
       " 80,\n",
       " 156,\n",
       " 123,\n",
       " 47,\n",
       " 32,\n",
       " 104,\n",
       " 43,\n",
       " 69,\n",
       " 119,\n",
       " 60,\n",
       " 89,\n",
       " 52,\n",
       " 64,\n",
       " 69,\n",
       " 47,\n",
       " 79,\n",
       " 44,\n",
       " 99,\n",
       " 119]"
      ]
     },
     "execution_count": 17,
     "metadata": {},
     "output_type": "execute_result"
    }
   ],
   "source": [
    "total = 0\n",
    "while total <= 1000:\n",
    "    \n",
    "    \n",
    "    "
   ]
  },
  {
   "cell_type": "code",
   "execution_count": 18,
   "metadata": {},
   "outputs": [
    {
     "data": {
      "text/plain": [
       "[<matplotlib.lines.Line2D at 0x7fa9da9226d0>]"
      ]
     },
     "execution_count": 18,
     "metadata": {},
     "output_type": "execute_result"
    },
    {
     "data": {
      "image/png": "[encoded data removed]",
      "text/plain": [
       "<matplotlib.figure.Figure at 0x7fa9daa01150>"
      ]
     },
     "metadata": {},
     "output_type": "display_data"
    }
   ],
   "source": [
    "plt.plot(iterations)"
   ]
  }
 ],
 "metadata": {
  "kernelspec": {
   "display_name": "Python 2",
   "language": "python",
   "name": "python2"
  },
  "language_info": {
   "codemirror_mode": {
    "name": "ipython",
    "version": 2
   },
   "file_extension": ".py",
   "mimetype": "text/x-python",
   "name": "python",
   "nbconvert_exporter": "python",
   "pygments_lexer": "ipython2",
   "version": "2.7.13"
  }
 },
 "nbformat": 4,
 "nbformat_minor": 1
}
